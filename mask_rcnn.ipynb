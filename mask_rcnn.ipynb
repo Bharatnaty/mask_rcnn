{
  "nbformat": 4,
  "nbformat_minor": 0,
  "metadata": {
    "colab": {
      "name": "mask_rcnn.ipynb",
      "provenance": []
    },
    "kernelspec": {
      "name": "python3",
      "display_name": "Python 3"
    },
    "language_info": {
      "name": "python"
    },
    "accelerator": "GPU"
  },
  "cells": [
    {
      "cell_type": "code",
      "metadata": {
        "id": "L2XykErmXeIm"
      },
      "source": [
        "!cp /content/drive/MyDrive/mask_rcnn_coco.h5 /content "
      ],
      "execution_count": null,
      "outputs": []
    },
    {
      "cell_type": "code",
      "metadata": {
        "id": "8_x-tKs3BiV7",
        "colab": {
          "base_uri": "https://localhost:8080/"
        },
        "outputId": "6f649c31-fe7b-4ac2-e3c7-a7ae2f8cdf0a"
      },
      "source": [
        "!pip uninstall tensorflow -y\n",
        "!pip uninstall keras -y\n",
        "!pip uninstall h5py -y"
      ],
      "execution_count": null,
      "outputs": [
        {
          "output_type": "stream",
          "name": "stdout",
          "text": [
            "Found existing installation: keras 2.6.0\n",
            "Uninstalling keras-2.6.0:\n",
            "  Successfully uninstalled keras-2.6.0\n"
          ]
        }
      ]
    },
    {
      "cell_type": "code",
      "metadata": {
        "colab": {
          "base_uri": "https://localhost:8080/",
          "height": 377
        },
        "id": "grOkWmZ3ftXF",
        "outputId": "91e33c77-3048-445e-969e-aa2b8f10bd0c"
      },
      "source": [
        "!pip install tensorflow==1.13.1\n",
        "!pip install keras==2.1.5\n",
        "!pip install h5py==2.7.1             # keep specific version of h5py,keras some version cause error"
      ],
      "execution_count": null,
      "outputs": [
        {
          "output_type": "stream",
          "name": "stdout",
          "text": [
            "Collecting keras==2.1.5\n",
            "  Downloading Keras-2.1.5-py2.py3-none-any.whl (334 kB)\n",
            "\u001b[?25l\r\u001b[K     |█                               | 10 kB 27.1 MB/s eta 0:00:01\r\u001b[K     |██                              | 20 kB 24.4 MB/s eta 0:00:01\r\u001b[K     |███                             | 30 kB 11.8 MB/s eta 0:00:01\r\u001b[K     |████                            | 40 kB 9.3 MB/s eta 0:00:01\r\u001b[K     |█████                           | 51 kB 5.3 MB/s eta 0:00:01\r\u001b[K     |█████▉                          | 61 kB 5.9 MB/s eta 0:00:01\r\u001b[K     |██████▉                         | 71 kB 5.6 MB/s eta 0:00:01\r\u001b[K     |███████▉                        | 81 kB 6.3 MB/s eta 0:00:01\r\u001b[K     |████████▉                       | 92 kB 4.8 MB/s eta 0:00:01\r\u001b[K     |█████████▉                      | 102 kB 5.2 MB/s eta 0:00:01\r\u001b[K     |██████████▊                     | 112 kB 5.2 MB/s eta 0:00:01\r\u001b[K     |███████████▊                    | 122 kB 5.2 MB/s eta 0:00:01\r\u001b[K     |████████████▊                   | 133 kB 5.2 MB/s eta 0:00:01\r\u001b[K     |█████████████▊                  | 143 kB 5.2 MB/s eta 0:00:01\r\u001b[K     |██████████████▊                 | 153 kB 5.2 MB/s eta 0:00:01\r\u001b[K     |███████████████▋                | 163 kB 5.2 MB/s eta 0:00:01\r\u001b[K     |████████████████▋               | 174 kB 5.2 MB/s eta 0:00:01\r\u001b[K     |█████████████████▋              | 184 kB 5.2 MB/s eta 0:00:01\r\u001b[K     |██████████████████▋             | 194 kB 5.2 MB/s eta 0:00:01\r\u001b[K     |███████████████████▋            | 204 kB 5.2 MB/s eta 0:00:01\r\u001b[K     |████████████████████▌           | 215 kB 5.2 MB/s eta 0:00:01\r\u001b[K     |█████████████████████▌          | 225 kB 5.2 MB/s eta 0:00:01\r\u001b[K     |██████████████████████▌         | 235 kB 5.2 MB/s eta 0:00:01\r\u001b[K     |███████████████████████▌        | 245 kB 5.2 MB/s eta 0:00:01\r\u001b[K     |████████████████████████▌       | 256 kB 5.2 MB/s eta 0:00:01\r\u001b[K     |█████████████████████████▍      | 266 kB 5.2 MB/s eta 0:00:01\r\u001b[K     |██████████████████████████▍     | 276 kB 5.2 MB/s eta 0:00:01\r\u001b[K     |███████████████████████████▍    | 286 kB 5.2 MB/s eta 0:00:01\r\u001b[K     |████████████████████████████▍   | 296 kB 5.2 MB/s eta 0:00:01\r\u001b[K     |█████████████████████████████▍  | 307 kB 5.2 MB/s eta 0:00:01\r\u001b[K     |██████████████████████████████▎ | 317 kB 5.2 MB/s eta 0:00:01\r\u001b[K     |███████████████████████████████▎| 327 kB 5.2 MB/s eta 0:00:01\r\u001b[K     |████████████████████████████████| 334 kB 5.2 MB/s \n",
            "\u001b[?25hRequirement already satisfied: six>=1.9.0 in /usr/local/lib/python3.7/dist-packages (from keras==2.1.5) (1.15.0)\n",
            "Requirement already satisfied: pyyaml in /usr/local/lib/python3.7/dist-packages (from keras==2.1.5) (3.13)\n",
            "Requirement already satisfied: numpy>=1.9.1 in /usr/local/lib/python3.7/dist-packages (from keras==2.1.5) (1.19.5)\n",
            "Requirement already satisfied: scipy>=0.14 in /usr/local/lib/python3.7/dist-packages (from keras==2.1.5) (1.4.1)\n",
            "Installing collected packages: keras\n",
            "\u001b[31mERROR: pip's dependency resolver does not currently take into account all the packages that are installed. This behaviour is the source of the following dependency conflicts.\n",
            "tensorflow 2.6.0 requires h5py~=3.1.0, but you have h5py 2.7.1 which is incompatible.\n",
            "tensorflow 2.6.0 requires keras~=2.6, but you have keras 2.1.5 which is incompatible.\u001b[0m\n",
            "Successfully installed keras-2.1.5\n"
          ]
        },
        {
          "output_type": "display_data",
          "data": {
            "application/vnd.colab-display-data+json": {
              "pip_warning": {
                "packages": [
                  "keras"
                ]
              }
            }
          },
          "metadata": {}
        },
        {
          "output_type": "stream",
          "name": "stdout",
          "text": [
            "Requirement already satisfied: h5py==2.7.1 in /usr/local/lib/python3.7/dist-packages (2.7.1)\n",
            "Requirement already satisfied: numpy>=1.7 in /usr/local/lib/python3.7/dist-packages (from h5py==2.7.1) (1.19.5)\n",
            "Requirement already satisfied: six in /usr/local/lib/python3.7/dist-packages (from h5py==2.7.1) (1.15.0)\n"
          ]
        }
      ]
    },
    {
      "cell_type": "code",
      "metadata": {
        "id": "JictTcjaCXHi",
        "colab": {
          "base_uri": "https://localhost:8080/"
        },
        "outputId": "c0c101b0-fb4c-483a-c24b-e3a2896367af"
      },
      "source": [
        "!git clone https://github.com/matterport/Mask_RCNN"
      ],
      "execution_count": null,
      "outputs": [
        {
          "output_type": "stream",
          "name": "stdout",
          "text": [
            "Cloning into 'Mask_RCNN'...\n",
            "remote: Enumerating objects: 956, done.\u001b[K\n",
            "remote: Total 956 (delta 0), reused 0 (delta 0), pack-reused 956\u001b[K\n",
            "Receiving objects: 100% (956/956), 125.23 MiB | 30.49 MiB/s, done.\n",
            "Resolving deltas: 100% (562/562), done.\n"
          ]
        }
      ]
    },
    {
      "cell_type": "code",
      "metadata": {
        "colab": {
          "base_uri": "https://localhost:8080/"
        },
        "id": "M1m6woOBYltq",
        "outputId": "01f3495a-e21e-40c0-8b76-a458ca646369"
      },
      "source": [
        "cd /content/Mask_RCNN"
      ],
      "execution_count": null,
      "outputs": [
        {
          "output_type": "stream",
          "name": "stdout",
          "text": [
            "/content/Mask_RCNN\n"
          ]
        }
      ]
    },
    {
      "cell_type": "code",
      "metadata": {
        "id": "3TvNkBXxZrmk",
        "colab": {
          "base_uri": "https://localhost:8080/"
        },
        "outputId": "e42f7388-3f4f-4857-a24b-e5c76c67910d"
      },
      "source": [
        "!python /content/Mask_RCNN/setup.py install"
      ],
      "execution_count": null,
      "outputs": [
        {
          "output_type": "stream",
          "name": "stdout",
          "text": [
            "WARNING:root:Fail load requirements file, so using default ones.\n",
            "/usr/local/lib/python3.7/dist-packages/setuptools/dist.py:700: UserWarning: Usage of dash-separated 'description-file' will not be supported in future versions. Please use the underscore name 'description_file' instead\n",
            "  % (opt, underscore_opt))\n",
            "/usr/local/lib/python3.7/dist-packages/setuptools/dist.py:700: UserWarning: Usage of dash-separated 'license-file' will not be supported in future versions. Please use the underscore name 'license_file' instead\n",
            "  % (opt, underscore_opt))\n",
            "/usr/local/lib/python3.7/dist-packages/setuptools/dist.py:700: UserWarning: Usage of dash-separated 'requirements-file' will not be supported in future versions. Please use the underscore name 'requirements_file' instead\n",
            "  % (opt, underscore_opt))\n",
            "running install\n",
            "running bdist_egg\n",
            "running egg_info\n",
            "creating mask_rcnn.egg-info\n",
            "writing mask_rcnn.egg-info/PKG-INFO\n",
            "writing dependency_links to mask_rcnn.egg-info/dependency_links.txt\n",
            "writing top-level names to mask_rcnn.egg-info/top_level.txt\n",
            "writing manifest file 'mask_rcnn.egg-info/SOURCES.txt'\n",
            "reading manifest template 'MANIFEST.in'\n",
            "adding license file 'LICENSE'\n",
            "writing manifest file 'mask_rcnn.egg-info/SOURCES.txt'\n",
            "installing library code to build/bdist.linux-x86_64/egg\n",
            "running install_lib\n",
            "running build_py\n",
            "creating build\n",
            "creating build/lib\n",
            "creating build/lib/mrcnn\n",
            "copying mrcnn/parallel_model.py -> build/lib/mrcnn\n",
            "copying mrcnn/__init__.py -> build/lib/mrcnn\n",
            "copying mrcnn/utils.py -> build/lib/mrcnn\n",
            "copying mrcnn/model.py -> build/lib/mrcnn\n",
            "copying mrcnn/visualize.py -> build/lib/mrcnn\n",
            "copying mrcnn/config.py -> build/lib/mrcnn\n",
            "creating build/bdist.linux-x86_64\n",
            "creating build/bdist.linux-x86_64/egg\n",
            "creating build/bdist.linux-x86_64/egg/mrcnn\n",
            "copying build/lib/mrcnn/parallel_model.py -> build/bdist.linux-x86_64/egg/mrcnn\n",
            "copying build/lib/mrcnn/__init__.py -> build/bdist.linux-x86_64/egg/mrcnn\n",
            "copying build/lib/mrcnn/utils.py -> build/bdist.linux-x86_64/egg/mrcnn\n",
            "copying build/lib/mrcnn/model.py -> build/bdist.linux-x86_64/egg/mrcnn\n",
            "copying build/lib/mrcnn/visualize.py -> build/bdist.linux-x86_64/egg/mrcnn\n",
            "copying build/lib/mrcnn/config.py -> build/bdist.linux-x86_64/egg/mrcnn\n",
            "byte-compiling build/bdist.linux-x86_64/egg/mrcnn/parallel_model.py to parallel_model.cpython-37.pyc\n",
            "byte-compiling build/bdist.linux-x86_64/egg/mrcnn/__init__.py to __init__.cpython-37.pyc\n",
            "byte-compiling build/bdist.linux-x86_64/egg/mrcnn/utils.py to utils.cpython-37.pyc\n",
            "byte-compiling build/bdist.linux-x86_64/egg/mrcnn/model.py to model.cpython-37.pyc\n",
            "byte-compiling build/bdist.linux-x86_64/egg/mrcnn/visualize.py to visualize.cpython-37.pyc\n",
            "byte-compiling build/bdist.linux-x86_64/egg/mrcnn/config.py to config.cpython-37.pyc\n",
            "creating build/bdist.linux-x86_64/egg/EGG-INFO\n",
            "copying mask_rcnn.egg-info/PKG-INFO -> build/bdist.linux-x86_64/egg/EGG-INFO\n",
            "copying mask_rcnn.egg-info/SOURCES.txt -> build/bdist.linux-x86_64/egg/EGG-INFO\n",
            "copying mask_rcnn.egg-info/dependency_links.txt -> build/bdist.linux-x86_64/egg/EGG-INFO\n",
            "copying mask_rcnn.egg-info/top_level.txt -> build/bdist.linux-x86_64/egg/EGG-INFO\n",
            "zip_safe flag not set; analyzing archive contents...\n",
            "creating dist\n",
            "creating 'dist/mask_rcnn-2.1-py3.7.egg' and adding 'build/bdist.linux-x86_64/egg' to it\n",
            "removing 'build/bdist.linux-x86_64/egg' (and everything under it)\n",
            "Processing mask_rcnn-2.1-py3.7.egg\n",
            "Copying mask_rcnn-2.1-py3.7.egg to /usr/local/lib/python3.7/dist-packages\n",
            "Adding mask-rcnn 2.1 to easy-install.pth file\n",
            "\n",
            "Installed /usr/local/lib/python3.7/dist-packages/mask_rcnn-2.1-py3.7.egg\n",
            "Processing dependencies for mask-rcnn==2.1\n",
            "Finished processing dependencies for mask-rcnn==2.1\n"
          ]
        }
      ]
    },
    {
      "cell_type": "code",
      "metadata": {
        "id": "HHJb7UlD1O5k"
      },
      "source": [
        "from mrcnn import utils\n",
        "import mrcnn.model as modellib\n",
        "from mrcnn import visualize"
      ],
      "execution_count": null,
      "outputs": []
    },
    {
      "cell_type": "code",
      "metadata": {
        "id": "xHHlHtvx1Ope"
      },
      "source": [
        "cd /content/Mask_RCNN/samples/coco"
      ],
      "execution_count": null,
      "outputs": []
    },
    {
      "cell_type": "code",
      "metadata": {
        "id": "wNenUmCpynIK"
      },
      "source": [
        "import coco\n",
        "class InferenceConfig(coco.CocoConfig):\n",
        "    GPU_COUNT = 1\n",
        "    IMAGES_PER_GPU = 1\n",
        "config = InferenceConfig()"
      ],
      "execution_count": null,
      "outputs": []
    },
    {
      "cell_type": "code",
      "metadata": {
        "id": "xGQjOPexym2x"
      },
      "source": [
        "model = modellib.MaskRCNN(mode=\"inference\", model_dir=\"/content\", config=config)\n",
        "model.load_weights(\"/content/mask_rcnn_coco.h5\", by_name=True)"
      ],
      "execution_count": null,
      "outputs": []
    },
    {
      "cell_type": "code",
      "metadata": {
        "id": "RYNNaK0OymzQ"
      },
      "source": [
        "class_names = ['BG', 'person', 'bicycle', 'car', 'motorcycle', 'airplane',\n",
        "               'bus', 'train', 'truck', 'boat', 'traffic light',\n",
        "               'fire hydrant', 'stop sign', 'parking meter', 'bench', 'bird',\n",
        "               'cat', 'dog', 'horse', 'sheep', 'cow', 'elephant', 'bear',\n",
        "               'zebra', 'giraffe', 'backpack', 'umbrella', 'handbag', 'tie',\n",
        "               'suitcase', 'frisbee', 'skis', 'snowboard', 'sports ball',\n",
        "               'kite', 'baseball bat', 'baseball glove', 'skateboard',\n",
        "               'surfboard', 'tennis racket', 'bottle', 'wine glass', 'cup',\n",
        "               'fork', 'knife', 'spoon', 'bowl', 'banana', 'apple',\n",
        "               'sandwich', 'orange', 'broccoli', 'carrot', 'hot dog', 'pizza',\n",
        "               'donut', 'cake', 'chair', 'couch', 'potted plant', 'bed',\n",
        "               'dining table', 'toilet', 'tv', 'laptop', 'mouse', 'remote',\n",
        "               'keyboard', 'cell phone', 'microwave', 'oven', 'toaster',\n",
        "               'sink', 'refrigerator', 'book', 'clock', 'vase', 'scissors',\n",
        "               'teddy bear', 'hair drier', 'toothbrush']"
      ],
      "execution_count": null,
      "outputs": []
    },
    {
      "cell_type": "code",
      "metadata": {
        "id": "4kuVRO1_y9p1"
      },
      "source": [
        "import matplotlib.pyplot as plt\n",
        "import skimage.io\n",
        "from os.path import exists, join, basename\n",
        "IMAGE_URL = 'https://i.postimg.cc/vBrLC1BF/pedestrian-road-traffic-street-town-city-546336-pxhere-com.jpg'\n",
        "\n",
        "image_file = basename(IMAGE_URL)\n",
        "!wget -q -O $image_file $IMAGE_URL\n",
        "image = skimage.io.imread(image_file)\n",
        "plt.figure(figsize=(15, 10))\n",
        "plt.imshow(image)"
      ],
      "execution_count": null,
      "outputs": []
    },
    {
      "cell_type": "code",
      "metadata": {
        "id": "21DDkJBgy9lE"
      },
      "source": [
        "results = model.detect([image], verbose=1)\n",
        "r = results[0]\n",
        "visualize.display_instances(image, r['rois'], r['masks'], r['class_ids'], class_names, r['scores'])"
      ],
      "execution_count": null,
      "outputs": []
    },
    {
      "cell_type": "markdown",
      "metadata": {
        "id": "VzJVw_p4jD-J"
      },
      "source": [
        "# Reference\n",
        "https://www.analyticsvidhya.com/blog/2019/07/computer-vision-implementing-mask-r-cnn-image-segmentation/\n",
        "<br>\n",
        "https://machinelearningmastery.com/how-to-perform-object-detection-in-photographs-with-mask-r-cnn-in-keras/"
      ]
    },
    {
      "cell_type": "markdown",
      "metadata": {
        "id": "B3982srllnid"
      },
      "source": [
        "# LISTEN\n",
        "\n",
        "if error like this <br>\n",
        "module 'keras.engine' has no attribute 'Layer'<br>\n",
        " CHECK THIS:https://stackoverflow.com/questions/67905185/module-keras-engine-has-no-attribute-layer\n"
      ]
    },
    {
      "cell_type": "code",
      "metadata": {
        "id": "di4C7rmBzK0l"
      },
      "source": [
        ""
      ],
      "execution_count": null,
      "outputs": []
    }
  ]
}